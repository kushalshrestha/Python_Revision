{
 "cells": [
  {
   "cell_type": "code",
   "execution_count": 8,
   "metadata": {
    "tags": []
   },
   "outputs": [
    {
     "name": "stdout",
     "output_type": "stream",
     "text": [
      "+--------+-------------+-----+\n",
      "|zip_code|         city|state|\n",
      "+--------+-------------+-----+\n",
      "|   10001|     New York|   NY|\n",
      "|   90001|  Los Angeles|   CA|\n",
      "|   60601|      Chicago|   IL|\n",
      "|   77001|      Houston|   TX|\n",
      "|   85001|      Phoenix|   AZ|\n",
      "|   30301|      Atlanta|   GA|\n",
      "|   94101|San Francisco|   CA|\n",
      "|   33101|        Miami|   FL|\n",
      "|   75201|       Dallas|   TX|\n",
      "|   48201|      Detroit|   MI|\n",
      "+--------+-------------+-----+\n",
      "\n",
      "None\n"
     ]
    }
   ],
   "source": [
    "import os\n",
    "from pyspark.sql import SparkSession\n",
    "\n",
    "spark = SparkSession.builder.appName('TestApp').getOrCreate()\n",
    "\n",
    "options = {\n",
    "    'header' : True,\n",
    "    'delimiter': ',',\n",
    "    'inferSchema' : True\n",
    "}\n",
    "\n",
    "df = spark.read.options(**options).csv(['./resources/1_sample_zip_code.csv','./resources/2_sample_zip_code1.csv'])\n",
    "print(df.show())"
   ]
  },
  {
   "cell_type": "markdown",
   "metadata": {},
   "source": [
    "# Writing PySpark DataFrame to CSV File\n",
    "\n",
    "PySpark Creates a Folder with Multiple Files:\n",
    " 1. Distributed Processing - data split across multiple worker nodes and Each partition writes its own part file separately to optimize performance\n",
    " 2. Default Parallelism - based on number of partitions, Spark creates multiple files\n",
    " "
   ]
  },
  {
   "cell_type": "code",
   "execution_count": 9,
   "metadata": {
    "tags": []
   },
   "outputs": [],
   "source": [
    "df.write.option('header', True).csv('./output/zip_codes_combined.csv')\n"
   ]
  },
  {
   "cell_type": "code",
   "execution_count": null,
   "metadata": {},
   "outputs": [],
   "source": []
  }
 ],
 "metadata": {
  "kernelspec": {
   "display_name": "Python 3 (ipykernel)",
   "language": "python",
   "name": "python3"
  },
  "language_info": {
   "codemirror_mode": {
    "name": "ipython",
    "version": 3
   },
   "file_extension": ".py",
   "mimetype": "text/x-python",
   "name": "python",
   "nbconvert_exporter": "python",
   "pygments_lexer": "ipython3",
   "version": "3.11.3"
  }
 },
 "nbformat": 4,
 "nbformat_minor": 4
}
