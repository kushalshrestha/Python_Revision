{
 "cells": [
  {
   "cell_type": "markdown",
   "id": "762373f2-6a23-4c9c-9198-563b77c34439",
   "metadata": {},
   "source": [
    "# Window Functions\n",
    "- useful when you need to perform calculations across a specific window of data"
   ]
  },
  {
   "cell_type": "code",
   "execution_count": 87,
   "id": "1dfc4034-6805-4186-8f6e-ca6458e96c46",
   "metadata": {},
   "outputs": [
    {
     "name": "stdout",
     "output_type": "stream",
     "text": [
      "+-----------+---------+----------+------+\n",
      "|employee_id|     name|department|salary|\n",
      "+-----------+---------+----------+------+\n",
      "|          1|     John|        HR| 55000|\n",
      "|          2|     Jane|   Finance| 80000|\n",
      "|          3|    James|        HR| 60000|\n",
      "|          4|     Anna|   Finance| 90000|\n",
      "|          5|      Bob| Marketing| 75000|\n",
      "|          6|    Emily| Marketing| 82000|\n",
      "|          7|    David|        HR| 65000|\n",
      "|          8|   George|   Finance| 95000|\n",
      "|          9|   Olivia| Marketing| 68000|\n",
      "|         10|     Liam|        HR| 54000|\n",
      "|         11|   Sophia|   Finance| 85000|\n",
      "|         12|    Lucas| Marketing| 78000|\n",
      "|         13| Isabella|   Finance| 92000|\n",
      "|         14|    Mason|        HR| 63000|\n",
      "|         15|   Amelia| Marketing| 79000|\n",
      "|         16|    Ethan|        HR| 67000|\n",
      "|         17|  Abigail|   Finance| 87000|\n",
      "|         18|    Aiden|        HR| 56000|\n",
      "|         19|Charlotte| Marketing| 81000|\n",
      "|         20|     Jack|        HR| 69000|\n",
      "+-----------+---------+----------+------+\n",
      "\n",
      "+-----------+---------+----------+------+----+\n",
      "|employee_id|     name|department|salary|rank|\n",
      "+-----------+---------+----------+------+----+\n",
      "|          8|   George|   Finance| 95000|   1|\n",
      "|         13| Isabella|   Finance| 92000|   2|\n",
      "|          4|     Anna|   Finance| 90000|   3|\n",
      "|         17|  Abigail|   Finance| 87000|   4|\n",
      "|         11|   Sophia|   Finance| 85000|   5|\n",
      "|          2|     Jane|   Finance| 80000|   6|\n",
      "|         20|     Jack|        HR| 69000|   1|\n",
      "|         16|    Ethan|        HR| 67000|   2|\n",
      "|          7|    David|        HR| 65000|   3|\n",
      "|         14|    Mason|        HR| 63000|   4|\n",
      "|          3|    James|        HR| 60000|   5|\n",
      "|         18|    Aiden|        HR| 56000|   6|\n",
      "|          1|     John|        HR| 55000|   7|\n",
      "|         10|     Liam|        HR| 54000|   8|\n",
      "|          6|    Emily| Marketing| 82000|   1|\n",
      "|         19|Charlotte| Marketing| 81000|   2|\n",
      "|         15|   Amelia| Marketing| 79000|   3|\n",
      "|         12|    Lucas| Marketing| 78000|   4|\n",
      "|          5|      Bob| Marketing| 75000|   5|\n",
      "|          9|   Olivia| Marketing| 68000|   6|\n",
      "+-----------+---------+----------+------+----+\n",
      "\n"
     ]
    }
   ],
   "source": [
    "from pyspark.sql import SparkSession\n",
    "from pyspark.sql.window import Window\n",
    "from pyspark.sql.functions import rank, col\n",
    "\n",
    "spark = SparkSession.builder.appName(\"WindowFunctions\").getOrCreate()\n",
    "\n",
    "df = spark.read.csv('./resources/7_employee.csv', header=True, inferSchema=True)\n",
    "df.show()\n",
    "\n",
    "window_specification = Window.partitionBy('department').orderBy(col('salary').desc())\n",
    "\n",
    "df_ranked = df.withColumn('rank', rank().over(window_specification))\n",
    "df_ranked.show()"
   ]
  },
  {
   "cell_type": "markdown",
   "id": "ce9cb42a-66b3-4d86-b27b-1a7aa4c22512",
   "metadata": {},
   "source": [
    "### Join With Aggregations\n",
    " - perform aggregations on joined DataFrames"
   ]
  },
  {
   "cell_type": "code",
   "execution_count": 92,
   "id": "a9f7e0f1-7c01-45f3-a64c-0e879a3b626a",
   "metadata": {},
   "outputs": [
    {
     "name": "stdout",
     "output_type": "stream",
     "text": [
      "+-----------+---------+----------+------+----+\n",
      "|employee_id|     name|department|salary|rank|\n",
      "+-----------+---------+----------+------+----+\n",
      "|          2|     Jane|   Finance| 80000|   1|\n",
      "|         11|   Sophia|   Finance| 85000|   2|\n",
      "|         17|  Abigail|   Finance| 87000|   3|\n",
      "|          4|     Anna|   Finance| 90000|   4|\n",
      "|         13| Isabella|   Finance| 92000|   5|\n",
      "|          8|   George|   Finance| 95000|   6|\n",
      "|         10|     Liam|        HR| 54000|   1|\n",
      "|          1|     John|        HR| 55000|   2|\n",
      "|         18|    Aiden|        HR| 56000|   3|\n",
      "|          3|    James|        HR| 60000|   4|\n",
      "|         14|    Mason|        HR| 63000|   5|\n",
      "|          7|    David|        HR| 65000|   6|\n",
      "|         16|    Ethan|        HR| 67000|   7|\n",
      "|         20|     Jack|        HR| 69000|   8|\n",
      "|          9|   Olivia| Marketing| 68000|   1|\n",
      "|          5|      Bob| Marketing| 75000|   2|\n",
      "|         12|    Lucas| Marketing| 78000|   3|\n",
      "|         15|   Amelia| Marketing| 79000|   4|\n",
      "|         19|Charlotte| Marketing| 81000|   5|\n",
      "|          6|    Emily| Marketing| 82000|   6|\n",
      "+-----------+---------+----------+------+----+\n",
      "\n"
     ]
    }
   ],
   "source": [
    "from pyspark.sql import SparkSession\n",
    "from pyspark.sql.window import Window\n",
    "from pyspark.sql.functions import rank, col\n",
    "\n",
    "spark = SparkSession.builder.appName('TestApp').getOrCreate()\n",
    "\n",
    "df = spark.read.csv('./resources/7_employee.csv', header=True, inferSchema=True)\n",
    "\n",
    "window_spec = Window.partitionBy('department').orderBy(col('salary'))\n",
    "df_ranked1 = df.withColumn('rank', rank().over(window_spec))\n",
    "df_ranked1.show()"
   ]
  }
 ],
 "metadata": {
  "kernelspec": {
   "display_name": "Python 3 (ipykernel)",
   "language": "python",
   "name": "python3"
  },
  "language_info": {
   "codemirror_mode": {
    "name": "ipython",
    "version": 3
   },
   "file_extension": ".py",
   "mimetype": "text/x-python",
   "name": "python",
   "nbconvert_exporter": "python",
   "pygments_lexer": "ipython3",
   "version": "3.11.3"
  }
 },
 "nbformat": 4,
 "nbformat_minor": 5
}
