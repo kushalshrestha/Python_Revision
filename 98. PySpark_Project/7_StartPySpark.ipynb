{
 "cells": [
  {
   "cell_type": "markdown",
   "id": "ec797012-25ae-40c6-b5e2-7d3ac7e48a8b",
   "metadata": {},
   "source": [
    "# Starting a PySpark Session\n",
    "\n",
    "- PySpark requires a SparkSession to interact with Spark"
   ]
  },
  {
   "cell_type": "code",
   "execution_count": 5,
   "id": "3d61ce6f-6ec4-4f66-bfc0-e1086bdabade",
   "metadata": {},
   "outputs": [
    {
     "name": "stdout",
     "output_type": "stream",
     "text": [
      "<pyspark.sql.session.SparkSession object at 0x1081d0810>\n"
     ]
    }
   ],
   "source": [
    "from pyspark.sql import SparkSession\n",
    "\n",
    "spark = SparkSession.builder.appName(\"PySparkLearning\").getOrCreate()\n",
    "\n",
    "print(spark)"
   ]
  },
  {
   "cell_type": "markdown",
   "id": "eb820c8a-1095-4862-92e5-afb90a9b59e1",
   "metadata": {},
   "source": [
    "# Loading a CSV File into a DataFrame\n",
    "\n",
    "- `header=True` means the first row contains column names\n",
    "- `inferSchema = True` allows Spark to detect data types"
   ]
  },
  {
   "cell_type": "code",
   "execution_count": 11,
   "id": "5cf9b4f5-9e39-4e56-b7ae-8c2f54c6ae0f",
   "metadata": {},
   "outputs": [
    {
     "name": "stdout",
     "output_type": "stream",
     "text": [
      "+------------+-------+-----------+-----------+-----+------------+-------+---------+-----+------+------+-----------+-------+---------------+-------------------+-------------+---------------+-------------------+----------+-----------------+\n",
      "|RecordNumber|Zipcode|ZipCodeType|       City|State|LocationType|    Lat|     Long|Xaxis| Yaxis| Zaxis|WorldRegion|Country|   LocationText|           Location|Decommisioned|TaxReturnsFiled|EstimatedPopulation|TotalWages|            Notes|\n",
      "+------------+-------+-----------+-----------+-----+------------+-------+---------+-----+------+------+-----------+-------+---------------+-------------------+-------------+---------------+-------------------+----------+-----------------+\n",
      "|           1|  10001|   STANDARD|   New York|   NY|     PRIMARY|40.7128|  -74.006|  123|456.78|789.01|         NA|     US|   New York, NY| (40.7128,-74.0060)|        false|          50000|             211000|  50000000|       Urban area|\n",
      "|           2|  90001|   STANDARD|Los Angeles|   CA|     PRIMARY|34.0522|-118.2437|  124|457.79|790.02|         NA|     US|Los Angeles, CA|(34.0522,-118.2437)|        false|          60000|             380000|  75000000|   West Coast hub|\n",
      "|           3|  60601|   STANDARD|    Chicago|   IL|     PRIMARY|41.8781| -87.6298|  125| 458.8|791.03|         NA|     US|    Chicago, IL| (41.8781,-87.6298)|        false|          55000|             270000|  62000000|     Midwest city|\n",
      "|           4|  77001|   STANDARD|    Houston|   TX|     PRIMARY|29.7604| -95.3698|  126|459.81|792.04|         NA|     US|    Houston, TX| (29.7604,-95.3698)|        false|          53000|             300000|  69000000|   Energy capital|\n",
      "|           5|  85001|   STANDARD|    Phoenix|   AZ|     PRIMARY|33.4484| -112.074|  127|460.82|793.05|         NA|     US|    Phoenix, AZ|(33.4484,-112.0740)|        false|          51000|             220000|  58000000|Desert metropolis|\n",
      "+------------+-------+-----------+-----------+-----+------------+-------+---------+-----+------+------+-----------+-------+---------------+-------------------+-------------+---------------+-------------------+----------+-----------------+\n",
      "\n"
     ]
    }
   ],
   "source": [
    "csv_file_path = './resources/3_zipcodes.csv'\n",
    "spark = SparkSession.builder.appName(\"PySparkLearning\").getOrCreate()\n",
    "df = spark.read.csv(csv_file_path, header=True, inferSchema=True)\n",
    "df.show(5)"
   ]
  },
  {
   "cell_type": "markdown",
   "id": "d2e93579-0db4-41fd-b05d-6eeb4a41de39",
   "metadata": {},
   "source": [
    "# Basic DataFrame Operations"
   ]
  },
  {
   "cell_type": "code",
   "execution_count": 28,
   "id": "ee684e14-5f67-4d2f-90f3-ae345762b625",
   "metadata": {},
   "outputs": [
    {
     "name": "stdout",
     "output_type": "stream",
     "text": [
      "root\n",
      " |-- RecordNumber: integer (nullable = true)\n",
      " |-- Zipcode: integer (nullable = true)\n",
      " |-- ZipCodeType: string (nullable = true)\n",
      " |-- City: string (nullable = true)\n",
      " |-- State: string (nullable = true)\n",
      " |-- LocationType: string (nullable = true)\n",
      " |-- Lat: double (nullable = true)\n",
      " |-- Long: double (nullable = true)\n",
      " |-- Xaxis: integer (nullable = true)\n",
      " |-- Yaxis: double (nullable = true)\n",
      " |-- Zaxis: double (nullable = true)\n",
      " |-- WorldRegion: string (nullable = true)\n",
      " |-- Country: string (nullable = true)\n",
      " |-- LocationText: string (nullable = true)\n",
      " |-- Location: string (nullable = true)\n",
      " |-- Decommisioned: boolean (nullable = true)\n",
      " |-- TaxReturnsFiled: integer (nullable = true)\n",
      " |-- EstimatedPopulation: integer (nullable = true)\n",
      " |-- TotalWages: integer (nullable = true)\n",
      " |-- Notes: string (nullable = true)\n",
      "\n",
      "+-----------+-----+\n",
      "|       City|State|\n",
      "+-----------+-----+\n",
      "|   New York|   NY|\n",
      "|Los Angeles|   CA|\n",
      "|    Chicago|   IL|\n",
      "|    Houston|   TX|\n",
      "|    Phoenix|   AZ|\n",
      "+-----------+-----+\n",
      "\n",
      "+------------+-------+-----------+-------+-----+------------+-------+--------+-----+-----+------+-----------+-------+------------+------------------+-------------+---------------+-------------------+----------+------------+\n",
      "|RecordNumber|Zipcode|ZipCodeType|   City|State|LocationType|    Lat|    Long|Xaxis|Yaxis| Zaxis|WorldRegion|Country|LocationText|          Location|Decommisioned|TaxReturnsFiled|EstimatedPopulation|TotalWages|       Notes|\n",
      "+------------+-------+-----------+-------+-----+------------+-------+--------+-----+-----+------+-----------+-------+------------+------------------+-------------+---------------+-------------------+----------+------------+\n",
      "|           3|  60601|   STANDARD|Chicago|   IL|     PRIMARY|41.8781|-87.6298|  125|458.8|791.03|         NA|     US| Chicago, IL|(41.8781,-87.6298)|        false|          55000|             270000|  62000000|Midwest city|\n",
      "+------------+-------+-----------+-------+-----+------------+-------+--------+-----+-----+------+-----------+-------+------------+------------------+-------------+---------------+-------------------+----------+------------+\n",
      "\n",
      "+-----------+-----+\n",
      "|       City|count|\n",
      "+-----------+-----+\n",
      "|    Phoenix|    1|\n",
      "|Los Angeles|    1|\n",
      "|    Chicago|    1|\n",
      "|    Houston|    1|\n",
      "|   New York|    1|\n",
      "+-----------+-----+\n",
      "\n"
     ]
    }
   ],
   "source": [
    "\n",
    "\n",
    "\n",
    "from pyspark.sql import SparkSession\n",
    "\n",
    "spark = SparkSession.builder.appName(\"PySparkLearning\").getOrCreate()\n",
    "df = spark.read.csv(csv_file_path, header=True, inferSchema=True)\n",
    "\n",
    "df.printSchema() # Show Schema\n",
    "df.select(\"City\", \"State\").show(5) # Select column\n",
    "df.filter(df[\"City\"] == 'Chicago').show() # Applying filter\n",
    "df.groupBy(\"City\").count().show() # Group and count\n"
   ]
  },
  {
   "cell_type": "markdown",
   "id": "8afe027e-9fb6-4fbd-9466-46079d26b6a7",
   "metadata": {},
   "source": [
    "# Writing Data to a File"
   ]
  },
  {
   "cell_type": "code",
   "execution_count": 29,
   "id": "36d4bc7b-5e0c-4cba-85af-fb9044d2d6df",
   "metadata": {},
   "outputs": [],
   "source": [
    "df.write.parquet('./output/7_StartPySpark_Output.parquet')"
   ]
  },
  {
   "cell_type": "markdown",
   "id": "6bb2f15c-08c4-4e36-900c-854131318876",
   "metadata": {},
   "source": [
    "# Reading Back the Saved Parquet file"
   ]
  },
  {
   "cell_type": "code",
   "execution_count": 30,
   "id": "992f27cf-3598-4579-96a0-b0bf1c81a47f",
   "metadata": {},
   "outputs": [
    {
     "name": "stdout",
     "output_type": "stream",
     "text": [
      "+------------+-------+-----------+-----------+-----+------------+-------+---------+-----+------+------+-----------+-------+---------------+-------------------+-------------+---------------+-------------------+----------+-----------------+\n",
      "|RecordNumber|Zipcode|ZipCodeType|       City|State|LocationType|    Lat|     Long|Xaxis| Yaxis| Zaxis|WorldRegion|Country|   LocationText|           Location|Decommisioned|TaxReturnsFiled|EstimatedPopulation|TotalWages|            Notes|\n",
      "+------------+-------+-----------+-----------+-----+------------+-------+---------+-----+------+------+-----------+-------+---------------+-------------------+-------------+---------------+-------------------+----------+-----------------+\n",
      "|           1|  10001|   STANDARD|   New York|   NY|     PRIMARY|40.7128|  -74.006|  123|456.78|789.01|         NA|     US|   New York, NY| (40.7128,-74.0060)|        false|          50000|             211000|  50000000|       Urban area|\n",
      "|           2|  90001|   STANDARD|Los Angeles|   CA|     PRIMARY|34.0522|-118.2437|  124|457.79|790.02|         NA|     US|Los Angeles, CA|(34.0522,-118.2437)|        false|          60000|             380000|  75000000|   West Coast hub|\n",
      "|           3|  60601|   STANDARD|    Chicago|   IL|     PRIMARY|41.8781| -87.6298|  125| 458.8|791.03|         NA|     US|    Chicago, IL| (41.8781,-87.6298)|        false|          55000|             270000|  62000000|     Midwest city|\n",
      "|           4|  77001|   STANDARD|    Houston|   TX|     PRIMARY|29.7604| -95.3698|  126|459.81|792.04|         NA|     US|    Houston, TX| (29.7604,-95.3698)|        false|          53000|             300000|  69000000|   Energy capital|\n",
      "|           5|  85001|   STANDARD|    Phoenix|   AZ|     PRIMARY|33.4484| -112.074|  127|460.82|793.05|         NA|     US|    Phoenix, AZ|(33.4484,-112.0740)|        false|          51000|             220000|  58000000|Desert metropolis|\n",
      "+------------+-------+-----------+-----------+-----+------------+-------+---------+-----+------+------+-----------+-------+---------------+-------------------+-------------+---------------+-------------------+----------+-----------------+\n",
      "\n"
     ]
    }
   ],
   "source": [
    "df_parquet = spark.read.parquet('./output/7_StartPySpark_Output.parquet')\n",
    "df_parquet.show(5)"
   ]
  },
  {
   "cell_type": "markdown",
   "id": "a3ca2977-7e9f-473e-8937-a55306421617",
   "metadata": {},
   "source": [
    "# Performing Data Transformations (ETL-like Processing)"
   ]
  },
  {
   "cell_type": "markdown",
   "id": "9d685552-9168-4baa-a1ee-7bfaf1f0b297",
   "metadata": {},
   "source": [
    "### Removing columns"
   ]
  },
  {
   "cell_type": "code",
   "execution_count": 31,
   "id": "74672cc0-34a2-4731-b993-7e361d6a3da4",
   "metadata": {},
   "outputs": [
    {
     "name": "stdout",
     "output_type": "stream",
     "text": [
      "+------------+-------+-----------+-----------+-----+------------+-------+---------+-----+------+------+-----------+-------+---------------+-------------------+-------------+---------------+-------------------+----------+-----------------+\n",
      "|RecordNumber|Zipcode|ZipCodeType|       City|State|LocationType|    Lat|     Long|Xaxis| Yaxis| Zaxis|WorldRegion|Country|   LocationText|           Location|Decommisioned|TaxReturnsFiled|EstimatedPopulation|TotalWages|            Notes|\n",
      "+------------+-------+-----------+-----------+-----+------------+-------+---------+-----+------+------+-----------+-------+---------------+-------------------+-------------+---------------+-------------------+----------+-----------------+\n",
      "|           1|  10001|   STANDARD|   New York|   NY|     PRIMARY|40.7128|  -74.006|  123|456.78|789.01|         NA|     US|   New York, NY| (40.7128,-74.0060)|        false|          50000|             211000|  50000000|       Urban area|\n",
      "|           2|  90001|   STANDARD|Los Angeles|   CA|     PRIMARY|34.0522|-118.2437|  124|457.79|790.02|         NA|     US|Los Angeles, CA|(34.0522,-118.2437)|        false|          60000|             380000|  75000000|   West Coast hub|\n",
      "|           3|  60601|   STANDARD|    Chicago|   IL|     PRIMARY|41.8781| -87.6298|  125| 458.8|791.03|         NA|     US|    Chicago, IL| (41.8781,-87.6298)|        false|          55000|             270000|  62000000|     Midwest city|\n",
      "|           4|  77001|   STANDARD|    Houston|   TX|     PRIMARY|29.7604| -95.3698|  126|459.81|792.04|         NA|     US|    Houston, TX| (29.7604,-95.3698)|        false|          53000|             300000|  69000000|   Energy capital|\n",
      "|           5|  85001|   STANDARD|    Phoenix|   AZ|     PRIMARY|33.4484| -112.074|  127|460.82|793.05|         NA|     US|    Phoenix, AZ|(33.4484,-112.0740)|        false|          51000|             220000|  58000000|Desert metropolis|\n",
      "+------------+-------+-----------+-----------+-----+------------+-------+---------+-----+------+------+-----------+-------+---------------+-------------------+-------------+---------------+-------------------+----------+-----------------+\n",
      "\n"
     ]
    }
   ],
   "source": [
    "df_cleaned = df_parquet.dropna() #Remove rows with NULLs\n",
    "df_cleaned.show()"
   ]
  },
  {
   "cell_type": "markdown",
   "id": "e12a0daf-406b-403e-9a51-e6a3265e1045",
   "metadata": {},
   "source": [
    "### Fill missing values"
   ]
  },
  {
   "cell_type": "code",
   "execution_count": 34,
   "id": "a252f5ee-aa11-4aa0-b439-bcf0db06d266",
   "metadata": {},
   "outputs": [
    {
     "name": "stdout",
     "output_type": "stream",
     "text": [
      "+------------+-------+-----------+-----------+-----+------------+-------+---------+-----+------+------+-----------+-------+---------------+-------------------+-------------+---------------+-------------------+----------+-----------------+\n",
      "|RecordNumber|Zipcode|ZipCodeType|       City|State|LocationType|    Lat|     Long|Xaxis| Yaxis| Zaxis|WorldRegion|Country|   LocationText|           Location|Decommisioned|TaxReturnsFiled|EstimatedPopulation|TotalWages|            Notes|\n",
      "+------------+-------+-----------+-----------+-----+------------+-------+---------+-----+------+------+-----------+-------+---------------+-------------------+-------------+---------------+-------------------+----------+-----------------+\n",
      "|           1|  10001|   STANDARD|   New York|   NY|     PRIMARY|40.7128|  -74.006|  123|456.78|789.01|         NA|     US|   New York, NY| (40.7128,-74.0060)|        false|          50000|             211000|  50000000|       Urban area|\n",
      "|           2|  90001|   STANDARD|Los Angeles|   CA|     PRIMARY|34.0522|-118.2437|  124|457.79|790.02|         NA|     US|Los Angeles, CA|(34.0522,-118.2437)|        false|          60000|             380000|  75000000|   West Coast hub|\n",
      "|           3|  60601|   STANDARD|    Chicago|   IL|     PRIMARY|41.8781| -87.6298|  125| 458.8|791.03|         NA|     US|    Chicago, IL| (41.8781,-87.6298)|        false|          55000|             270000|  62000000|     Midwest city|\n",
      "|           4|  77001|   STANDARD|    Houston|   TX|     PRIMARY|29.7604| -95.3698|  126|459.81|792.04|         NA|     US|    Houston, TX| (29.7604,-95.3698)|        false|          53000|             300000|  69000000|   Energy capital|\n",
      "|           5|  85001|   STANDARD|    Phoenix|   AZ|     PRIMARY|33.4484| -112.074|  127|460.82|793.05|         NA|     US|    Phoenix, AZ|(33.4484,-112.0740)|        false|          51000|             220000|  58000000|Desert metropolis|\n",
      "+------------+-------+-----------+-----------+-----+------------+-------+---------+-----+------+------+-----------+-------+---------------+-------------------+-------------+---------------+-------------------+----------+-----------------+\n",
      "\n"
     ]
    }
   ],
   "source": [
    "df_filled = df.fillna({\"City\" : \"UNKNOWN\"})\n",
    "df_filled.show(5)"
   ]
  },
  {
   "cell_type": "markdown",
   "id": "69bd2307-d412-4496-afa4-182218d2f280",
   "metadata": {},
   "source": [
    "### Adding a new column"
   ]
  },
  {
   "cell_type": "code",
   "execution_count": 39,
   "id": "19aa1403-43b7-44ba-98b8-911ae7b7f31d",
   "metadata": {},
   "outputs": [
    {
     "name": "stdout",
     "output_type": "stream",
     "text": [
      "+------------+-------+-----------+-----------+-----+------------+-------+---------+-----+------+------+-----------+-------+---------------+-------------------+-------------+---------------+-------------------+----------+-----------------+---------------+\n",
      "|RecordNumber|Zipcode|ZipCodeType|       City|State|LocationType|    Lat|     Long|Xaxis| Yaxis| Zaxis|WorldRegion|Country|   LocationText|           Location|Decommisioned|TaxReturnsFiled|EstimatedPopulation|TotalWages|            Notes|CountryFullName|\n",
      "+------------+-------+-----------+-----------+-----+------------+-------+---------+-----+------+------+-----------+-------+---------------+-------------------+-------------+---------------+-------------------+----------+-----------------+---------------+\n",
      "|           1|  10001|   STANDARD|   New York|   NY|     PRIMARY|40.7128|  -74.006|  123|456.78|789.01|         NA|     US|   New York, NY| (40.7128,-74.0060)|        false|          50000|             211000|  50000000|       Urban area|            USA|\n",
      "|           2|  90001|   STANDARD|Los Angeles|   CA|     PRIMARY|34.0522|-118.2437|  124|457.79|790.02|         NA|     US|Los Angeles, CA|(34.0522,-118.2437)|        false|          60000|             380000|  75000000|   West Coast hub|            USA|\n",
      "|           3|  60601|   STANDARD|    Chicago|   IL|     PRIMARY|41.8781| -87.6298|  125| 458.8|791.03|         NA|     US|    Chicago, IL| (41.8781,-87.6298)|        false|          55000|             270000|  62000000|     Midwest city|            USA|\n",
      "|           4|  77001|   STANDARD|    Houston|   TX|     PRIMARY|29.7604| -95.3698|  126|459.81|792.04|         NA|     US|    Houston, TX| (29.7604,-95.3698)|        false|          53000|             300000|  69000000|   Energy capital|            USA|\n",
      "|           5|  85001|   STANDARD|    Phoenix|   AZ|     PRIMARY|33.4484| -112.074|  127|460.82|793.05|         NA|     US|    Phoenix, AZ|(33.4484,-112.0740)|        false|          51000|             220000|  58000000|Desert metropolis|            USA|\n",
      "+------------+-------+-----------+-----------+-----+------------+-------+---------+-----+------+------+-----------+-------+---------------+-------------------+-------------+---------------+-------------------+----------+-----------------+---------------+\n",
      "\n"
     ]
    }
   ],
   "source": [
    "from pyspark.sql.functions import lit #literal\n",
    "df_new = df.withColumn(\"CountryFullName\", lit(\"USA\"))\n",
    "df_new.show()"
   ]
  },
  {
   "cell_type": "markdown",
   "id": "26aef7d1-3420-4a8a-9ca0-fe9c934e5ee5",
   "metadata": {},
   "source": [
    "### Modifying a Column"
   ]
  },
  {
   "cell_type": "code",
   "execution_count": 53,
   "id": "311a670f-fc9d-4799-88b6-ab712ce76317",
   "metadata": {},
   "outputs": [
    {
     "name": "stdout",
     "output_type": "stream",
     "text": [
      "+------------+-------+-----------+-----------+-----+------------+-------+---------+-----+------+------+-----------+-------+---------------+-------------------+-------------+---------------+-------------------+----------+-----------------+----------------------+\n",
      "|RecordNumber|Zipcode|ZipCodeType|       City|State|LocationType|    Lat|     Long|Xaxis| Yaxis| Zaxis|WorldRegion|Country|   LocationText|           Location|Decommisioned|TaxReturnsFiled|EstimatedPopulation|TotalWages|            Notes|TotalWages in Thousand|\n",
      "+------------+-------+-----------+-----------+-----+------------+-------+---------+-----+------+------+-----------+-------+---------------+-------------------+-------------+---------------+-------------------+----------+-----------------+----------------------+\n",
      "|           1|  10001|   STANDARD|   New York|   NY|     PRIMARY|40.7128|  -74.006|  123|456.78|789.01|         NA|     US|   New York, NY| (40.7128,-74.0060)|        false|          50000|             211000|  50000000|       Urban area|               50000.0|\n",
      "|           2|  90001|   STANDARD|Los Angeles|   CA|     PRIMARY|34.0522|-118.2437|  124|457.79|790.02|         NA|     US|Los Angeles, CA|(34.0522,-118.2437)|        false|          60000|             380000|  75000000|   West Coast hub|               75000.0|\n",
      "|           3|  60601|   STANDARD|    Chicago|   IL|     PRIMARY|41.8781| -87.6298|  125| 458.8|791.03|         NA|     US|    Chicago, IL| (41.8781,-87.6298)|        false|          55000|             270000|  62000000|     Midwest city|               62000.0|\n",
      "|           4|  77001|   STANDARD|    Houston|   TX|     PRIMARY|29.7604| -95.3698|  126|459.81|792.04|         NA|     US|    Houston, TX| (29.7604,-95.3698)|        false|          53000|             300000|  69000000|   Energy capital|               69000.0|\n",
      "|           5|  85001|   STANDARD|    Phoenix|   AZ|     PRIMARY|33.4484| -112.074|  127|460.82|793.05|         NA|     US|    Phoenix, AZ|(33.4484,-112.0740)|        false|          51000|             220000|  58000000|Desert metropolis|               58000.0|\n",
      "+------------+-------+-----------+-----------+-----+------------+-------+---------+-----+------+------+-----------+-------+---------------+-------------------+-------------+---------------+-------------------+----------+-----------------+----------------------+\n",
      "\n"
     ]
    }
   ],
   "source": [
    "from pyspark.sql.functions import col\n",
    "df_updated = df.withColumn(\"TotalWages in Thousand\", col(\"TotalWages\")/1000)\n",
    "df_updated.show()"
   ]
  },
  {
   "cell_type": "markdown",
   "id": "49fbd23c-92d1-42d7-bd56-2d0181050b26",
   "metadata": {},
   "source": [
    "### Aggregate and Summarize Data\n",
    "\n",
    "There are couple of options:\n",
    "- Using `groupBy` in PySpark\n",
    "- Using `pyspark.sql.functions`"
   ]
  },
  {
   "cell_type": "code",
   "execution_count": 54,
   "id": "0789b1b7-3c7b-48cc-8e21-869500d8e859",
   "metadata": {},
   "outputs": [
    {
     "name": "stdout",
     "output_type": "stream",
     "text": [
      "+-----------+---------------+\n",
      "|       City|avg(TotalWages)|\n",
      "+-----------+---------------+\n",
      "|    Phoenix|          5.8E7|\n",
      "|Los Angeles|          7.5E7|\n",
      "|    Chicago|          6.2E7|\n",
      "|    Houston|          6.9E7|\n",
      "|   New York|          5.0E7|\n",
      "+-----------+---------------+\n",
      "\n",
      "+-----------+--------+--------+----------+\n",
      "|       City|avg_wage|sum_wage|count_wage|\n",
      "+-----------+--------+--------+----------+\n",
      "|    Phoenix|   5.8E7|58000000|         1|\n",
      "|Los Angeles|   7.5E7|75000000|         1|\n",
      "|    Chicago|   6.2E7|62000000|         1|\n",
      "|    Houston|   6.9E7|69000000|         1|\n",
      "|   New York|   5.0E7|50000000|         1|\n",
      "+-----------+--------+--------+----------+\n",
      "\n"
     ]
    }
   ],
   "source": [
    "df_updated.groupBy(\"City\").agg({\"TotalWages\": \"avg\"}).show()\n",
    "\n",
    "# OR\n",
    "\n",
    "from pyspark.sql.functions import avg, sum, count\n",
    "df_updated.groupBy(\"City\").agg(\n",
    "    avg(\"TotalWages\").alias(\"avg_wage\"),\n",
    "    sum(\"TotalWages\").alias(\"sum_wage\"),\n",
    "    count(\"TotalWages\").alias(\"count_wage\")\n",
    ").show()"
   ]
  },
  {
   "cell_type": "markdown",
   "id": "1093fa9c-6905-4b13-8c31-8a8706e0a1cf",
   "metadata": {},
   "source": [
    "### Filter and Query Data (SparkSQL Vs PySpark API)"
   ]
  },
  {
   "cell_type": "code",
   "execution_count": 56,
   "id": "034ded4e-765b-40c8-8037-ff8d67e43ab9",
   "metadata": {},
   "outputs": [
    {
     "name": "stdout",
     "output_type": "stream",
     "text": [
      "+------------+-------+-----------+-----------+-----+------------+-------+---------+-----+------+------+-----------+-------+---------------+-------------------+-------------+---------------+-------------------+----------+--------------+----------------------+\n",
      "|RecordNumber|Zipcode|ZipCodeType|       City|State|LocationType|    Lat|     Long|Xaxis| Yaxis| Zaxis|WorldRegion|Country|   LocationText|           Location|Decommisioned|TaxReturnsFiled|EstimatedPopulation|TotalWages|         Notes|TotalWages in Thousand|\n",
      "+------------+-------+-----------+-----------+-----+------------+-------+---------+-----+------+------+-----------+-------+---------------+-------------------+-------------+---------------+-------------------+----------+--------------+----------------------+\n",
      "|           2|  90001|   STANDARD|Los Angeles|   CA|     PRIMARY|34.0522|-118.2437|  124|457.79|790.02|         NA|     US|Los Angeles, CA|(34.0522,-118.2437)|        false|          60000|             380000|  75000000|West Coast hub|               75000.0|\n",
      "|           3|  60601|   STANDARD|    Chicago|   IL|     PRIMARY|41.8781| -87.6298|  125| 458.8|791.03|         NA|     US|    Chicago, IL| (41.8781,-87.6298)|        false|          55000|             270000|  62000000|  Midwest city|               62000.0|\n",
      "|           4|  77001|   STANDARD|    Houston|   TX|     PRIMARY|29.7604| -95.3698|  126|459.81|792.04|         NA|     US|    Houston, TX| (29.7604,-95.3698)|        false|          53000|             300000|  69000000|Energy capital|               69000.0|\n",
      "+------------+-------+-----------+-----------+-----+------------+-------+---------+-----+------+------+-----------+-------+---------------+-------------------+-------------+---------------+-------------------+----------+--------------+----------------------+\n",
      "\n"
     ]
    }
   ],
   "source": [
    "df_filter = df_updated.filter(df[\"EstimatedPopulation\"] > 220000)\n",
    "df_filter.show()\n"
   ]
  },
  {
   "cell_type": "code",
   "execution_count": 74,
   "id": "9f38cf59-bb50-4284-9159-a728afd69e3e",
   "metadata": {},
   "outputs": [
    {
     "name": "stdout",
     "output_type": "stream",
     "text": [
      "+------------+-------+-----------+-----------+-----+------------+-------+---------+-----+------+------+-----------+-------+---------------+-------------------+-------------+---------------+-------------------+----------+--------------+----------------------+\n",
      "|RecordNumber|Zipcode|ZipCodeType|       City|State|LocationType|    Lat|     Long|Xaxis| Yaxis| Zaxis|WorldRegion|Country|   LocationText|           Location|Decommisioned|TaxReturnsFiled|EstimatedPopulation|TotalWages|         Notes|TotalWages in Thousand|\n",
      "+------------+-------+-----------+-----------+-----+------------+-------+---------+-----+------+------+-----------+-------+---------------+-------------------+-------------+---------------+-------------------+----------+--------------+----------------------+\n",
      "|           2|  90001|   STANDARD|Los Angeles|   CA|     PRIMARY|34.0522|-118.2437|  124|457.79|790.02|         NA|     US|Los Angeles, CA|(34.0522,-118.2437)|        false|          60000|             380000|  75000000|West Coast hub|               75000.0|\n",
      "+------------+-------+-----------+-----------+-----+------------+-------+---------+-----+------+------+-----------+-------+---------------+-------------------+-------------+---------------+-------------------+----------+--------------+----------------------+\n",
      "\n"
     ]
    }
   ],
   "source": [
    "# Using SparkSQL\n",
    "df_updated.createOrReplaceTempView(\"StateDetails\")\n",
    "sql = spark.sql(\"select * from StateDetails where City='Los Angeles'\")\n",
    "sql.show()"
   ]
  },
  {
   "cell_type": "markdown",
   "id": "de4a5400-6661-4a64-88c7-43356fb6ab68",
   "metadata": {},
   "source": [
    "# Joins and Combining Data"
   ]
  },
  {
   "cell_type": "code",
   "execution_count": 80,
   "id": "525fbb34-b0af-4505-8b7e-50937f0fad48",
   "metadata": {},
   "outputs": [
    {
     "name": "stdout",
     "output_type": "stream",
     "text": [
      "+---+-------+---+---+---------+\n",
      "| id|   name|age| id|  country|\n",
      "+---+-------+---+---+---------+\n",
      "|  1|  Alice| 25|  1|      USA|\n",
      "|  2|    Bob| 30|  2|   Canada|\n",
      "|  3|Charlie| 35|  3|       UK|\n",
      "|  4|  David| 40|  4|Australia|\n",
      "|  5|    Eva| 45|  5|  Germany|\n",
      "+---+-------+---+---+---------+\n",
      "\n"
     ]
    }
   ],
   "source": [
    "from pyspark.sql import SparkSession\n",
    "\n",
    "spark = SparkSession.builder.appName('PySparkJoin').getOrCreate()\n",
    "\n",
    "df1 = spark.read.csv('./resources/5_person.csv', header=True, inferSchema=True)\n",
    "df2 = spark.read.csv('./resources/6_country.csv', header=True, inferSchema=True)\n",
    "\n",
    "df_joined = df1.join(df2, df1[\"id\"] == df2[\"id\"], \"inner\")\n",
    "df_joined.show()"
   ]
  }
 ],
 "metadata": {
  "kernelspec": {
   "display_name": "Python 3 (ipykernel)",
   "language": "python",
   "name": "python3"
  },
  "language_info": {
   "codemirror_mode": {
    "name": "ipython",
    "version": 3
   },
   "file_extension": ".py",
   "mimetype": "text/x-python",
   "name": "python",
   "nbconvert_exporter": "python",
   "pygments_lexer": "ipython3",
   "version": "3.11.3"
  }
 },
 "nbformat": 4,
 "nbformat_minor": 5
}
