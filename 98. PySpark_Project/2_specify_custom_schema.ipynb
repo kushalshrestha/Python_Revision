{
 "cells": [
  {
   "cell_type": "code",
   "execution_count": 7,
   "metadata": {
    "tags": []
   },
   "outputs": [
    {
     "name": "stdout",
     "output_type": "stream",
     "text": [
      "+------------+-------+-----------+-----------+-----+------------+-------+---------+-----+------+------+-----------+-------+---------------+-------------------+-------------+---------------+-------------------+----------+-----------------+\n",
      "|RecordNumber|Zipcode|ZipCodeType|       City|State|LocationType|    Lat|     Long|Xaxis| Yaxis| Zaxis|WorldRegion|Country|   LocationText|           Location|Decommisioned|TaxReturnsFiled|EstimatedPopulation|TotalWages|            Notes|\n",
      "+------------+-------+-----------+-----------+-----+------------+-------+---------+-----+------+------+-----------+-------+---------------+-------------------+-------------+---------------+-------------------+----------+-----------------+\n",
      "|           1|  10001|   STANDARD|   New York|   NY|     PRIMARY|40.7128|  -74.006|  123|456.78|789.01|         NA|     US|   New York, NY| (40.7128,-74.0060)|        false|          50000|             211000|  50000000|       Urban area|\n",
      "|           2|  90001|   STANDARD|Los Angeles|   CA|     PRIMARY|34.0522|-118.2437|  124|457.79|790.02|         NA|     US|Los Angeles, CA|(34.0522,-118.2437)|        false|          60000|             380000|  75000000|   West Coast hub|\n",
      "|           3|  60601|   STANDARD|    Chicago|   IL|     PRIMARY|41.8781| -87.6298|  125| 458.8|791.03|         NA|     US|    Chicago, IL| (41.8781,-87.6298)|        false|          55000|             270000|  62000000|     Midwest city|\n",
      "|           4|  77001|   STANDARD|    Houston|   TX|     PRIMARY|29.7604| -95.3698|  126|459.81|792.04|         NA|     US|    Houston, TX| (29.7604,-95.3698)|        false|          53000|             300000|  69000000|   Energy capital|\n",
      "|           5|  85001|   STANDARD|    Phoenix|   AZ|     PRIMARY|33.4484| -112.074|  127|460.82|793.05|         NA|     US|    Phoenix, AZ|(33.4484,-112.0740)|        false|          51000|             220000|  58000000|Desert metropolis|\n",
      "+------------+-------+-----------+-----------+-----+------------+-------+---------+-----+------+------+-----------+-------+---------------+-------------------+-------------+---------------+-------------------+----------+-----------------+\n",
      "\n",
      "None\n",
      "5\n"
     ]
    }
   ],
   "source": [
    "import os\n",
    "from pyspark.sql import SparkSession\n",
    "from pyspark.sql.types import StructType, StructField, StringType, IntegerType, ArrayType, DoubleType, BooleanType\n",
    "\n",
    "spark = SparkSession.builder.appName(\"TestApp\").getOrCreate()\n",
    "\n",
    "# Using custom schema\n",
    "customSchema = StructType() \\\n",
    "      .add(\"RecordNumber\",IntegerType(),True) \\\n",
    "      .add(\"Zipcode\",IntegerType(),True) \\\n",
    "      .add(\"ZipCodeType\",StringType(),True) \\\n",
    "      .add(\"City\",StringType(),True) \\\n",
    "      .add(\"State\",StringType(),True) \\\n",
    "      .add(\"LocationType\",StringType(),True) \\\n",
    "      .add(\"Lat\",DoubleType(),True) \\\n",
    "      .add(\"Long\",DoubleType(),True) \\\n",
    "      .add(\"Xaxis\",IntegerType(),True) \\\n",
    "      .add(\"Yaxis\",DoubleType(),True) \\\n",
    "      .add(\"Zaxis\",DoubleType(),True) \\\n",
    "      .add(\"WorldRegion\",StringType(),True) \\\n",
    "      .add(\"Country\",StringType(),True) \\\n",
    "      .add(\"LocationText\",StringType(),True) \\\n",
    "      .add(\"Location\",StringType(),True) \\\n",
    "      .add(\"Decommisioned\",BooleanType(),True) \\\n",
    "      .add(\"TaxReturnsFiled\",StringType(),True) \\\n",
    "      .add(\"EstimatedPopulation\",IntegerType(),True) \\\n",
    "      .add(\"TotalWages\",IntegerType(),True) \\\n",
    "      .add(\"Notes\",StringType(),True)\n",
    "\n",
    "df = spark.read.format('csv').option('header', True).schema(customSchema).load('./resources/3_zipcodes.csv')\n",
    "print(df.show())\n",
    "print(df.count())"
   ]
  },
  {
   "cell_type": "code",
   "execution_count": null,
   "metadata": {},
   "outputs": [],
   "source": []
  }
 ],
 "metadata": {
  "kernelspec": {
   "display_name": "Python 3 (ipykernel)",
   "language": "python",
   "name": "python3"
  },
  "language_info": {
   "codemirror_mode": {
    "name": "ipython",
    "version": 3
   },
   "file_extension": ".py",
   "mimetype": "text/x-python",
   "name": "python",
   "nbconvert_exporter": "python",
   "pygments_lexer": "ipython3",
   "version": "3.11.3"
  }
 },
 "nbformat": 4,
 "nbformat_minor": 4
}
