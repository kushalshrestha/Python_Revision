{
 "cells": [
  {
   "cell_type": "code",
   "execution_count": 7,
   "metadata": {
    "tags": []
   },
   "outputs": [
    {
     "name": "stdout",
     "output_type": "stream",
     "text": [
      "+--------+-----------+-----+\n",
      "|zip_code|       city|state|\n",
      "+--------+-----------+-----+\n",
      "|   10001|   New York|   NY|\n",
      "|   90001|Los Angeles|   CA|\n",
      "|   60601|    Chicago|   IL|\n",
      "|   77001|    Houston|   TX|\n",
      "|   85001|    Phoenix|   AZ|\n",
      "|   10001|   New York|   NY|\n",
      "|   90001|Los Angeles|   CA|\n",
      "|   60601|    Chicago|   IL|\n",
      "|   77001|    Houston|   TX|\n",
      "|   85001|    Phoenix|   AZ|\n",
      "+--------+-----------+-----+\n",
      "\n",
      "None\n"
     ]
    }
   ],
   "source": [
    "import os\n",
    "from pyspark.sql import SparkSession\n",
    "\n",
    "spark = SparkSession.builder.appName('TestApp').getOrCreate()\n",
    "options = {\n",
    "    'header' : True,\n",
    "    'delimiter': ',',\n",
    "    'inferSchema' : True\n",
    "}\n",
    "\n",
    "df = spark.read.options(**options).csv(['./resources/1_sample_zip_code.csv','./resources/1_sample_zip_code.csv'])\n",
    "print(df.show())"
   ]
  },
  {
   "cell_type": "markdown",
   "metadata": {},
   "source": [
    "# Filtering"
   ]
  },
  {
   "cell_type": "code",
   "execution_count": 18,
   "metadata": {
    "tags": []
   },
   "outputs": [
    {
     "name": "stdout",
     "output_type": "stream",
     "text": [
      "+--------+-----------+-----+\n",
      "|zip_code|       city|state|\n",
      "+--------+-----------+-----+\n",
      "|   90001|Los Angeles|   CA|\n",
      "|   90001|Los Angeles|   CA|\n",
      "+--------+-----------+-----+\n",
      "\n",
      "+--------+-----------+-----+\n",
      "|zip_code|       city|state|\n",
      "+--------+-----------+-----+\n",
      "|   90001|Los Angeles|   CA|\n",
      "|   60601|    Chicago|   IL|\n",
      "|   77001|    Houston|   TX|\n",
      "|   85001|    Phoenix|   AZ|\n",
      "|   90001|Los Angeles|   CA|\n",
      "|   60601|    Chicago|   IL|\n",
      "|   77001|    Houston|   TX|\n",
      "|   85001|    Phoenix|   AZ|\n",
      "+--------+-----------+-----+\n",
      "\n"
     ]
    }
   ],
   "source": [
    "# Filter state == 'CA'\n",
    "filtered_df = df.filter(df['state'] == 'CA')\n",
    "filtered_df.show()\n",
    "\n",
    "# Filter zip codes with zipcode > 30000\n",
    "filtered_df1 = df.filter(df['zip_code'] > 30000)\n",
    "filtered_df1.show()"
   ]
  },
  {
   "cell_type": "markdown",
   "metadata": {},
   "source": [
    "# Select columns"
   ]
  },
  {
   "cell_type": "code",
   "execution_count": 19,
   "metadata": {
    "tags": []
   },
   "outputs": [
    {
     "name": "stdout",
     "output_type": "stream",
     "text": [
      "+-----------+-----+\n",
      "|       city|state|\n",
      "+-----------+-----+\n",
      "|   New York|   NY|\n",
      "|Los Angeles|   CA|\n",
      "|    Chicago|   IL|\n",
      "|    Houston|   TX|\n",
      "|    Phoenix|   AZ|\n",
      "|   New York|   NY|\n",
      "|Los Angeles|   CA|\n",
      "|    Chicago|   IL|\n",
      "|    Houston|   TX|\n",
      "|    Phoenix|   AZ|\n",
      "+-----------+-----+\n",
      "\n"
     ]
    }
   ],
   "source": [
    "df_selected = df.select('city', 'state')\n",
    "df_selected.show()"
   ]
  },
  {
   "cell_type": "code",
   "execution_count": null,
   "metadata": {},
   "outputs": [],
   "source": []
  }
 ],
 "metadata": {
  "kernelspec": {
   "display_name": "Python 3 (ipykernel)",
   "language": "python",
   "name": "python3"
  },
  "language_info": {
   "codemirror_mode": {
    "name": "ipython",
    "version": 3
   },
   "file_extension": ".py",
   "mimetype": "text/x-python",
   "name": "python",
   "nbconvert_exporter": "python",
   "pygments_lexer": "ipython3",
   "version": "3.11.3"
  }
 },
 "nbformat": 4,
 "nbformat_minor": 4
}
