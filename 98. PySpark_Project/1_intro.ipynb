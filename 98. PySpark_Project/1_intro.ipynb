{
 "cells": [
  {
   "cell_type": "code",
   "execution_count": 3,
   "metadata": {
    "tags": []
   },
   "outputs": [],
   "source": [
    "from pyspark.sql import SparkSession\n",
    "import os\n",
    "\n",
    "#Initialize Spark Session\n",
    "spark = SparkSession.builder.appName(\"TestPySpark\").getOrCreate()"
   ]
  },
  {
   "cell_type": "code",
   "execution_count": null,
   "metadata": {
    "tags": []
   },
   "outputs": [],
   "source": [
    "from pyspark.sql import SparkSession\n",
    "import time\n",
    "\n",
    "# Initialize Spark Session\n",
    "spark = SparkSession.builder.appName(\"TestPySpark\").getOrCreate()\n",
    "\n",
    "# Create DataFrame\n",
    "df = spark.createDataFrame([(1, \"Alice\"), (2, \"Bob\")], [\"id\", \"name\"])\n",
    "\n",
    "# Show Data\n",
    "df.show()\n",
    "\n",
    "\n"
   ]
  },
  {
   "cell_type": "code",
   "execution_count": null,
   "metadata": {},
   "outputs": [],
   "source": [
    "from pyspark.sql import SparkSession\n",
    "import time\n",
    "\n",
    "# Initialize Spark Session\n",
    "spark = SparkSession.builder.appName(\"TestPySpark\").getOrCreate()\n",
    "\n",
    "# Create DataFrame\n",
    "df = spark.createDataFrame([(1, \"DSFDS\"), (2, \"Bob\")], [\"id\", \"name\"])\n",
    "\n",
    "# Show Data\n",
    "df.show()\n",
    "\n",
    "\n"
   ]
  },
  {
   "cell_type": "code",
   "execution_count": null,
   "metadata": {
    "tags": []
   },
   "outputs": [],
   "source": [
    "spark = SparkSession.builder.appName(\"TestPySpark\").getOrCreate()\n",
    "data = [\n",
    "    (\"Kushal Shrestha\", \"33\"),\n",
    "    (\"Lionel Messi\", \"37\")\n",
    "]\n",
    "df = spark.createDataFrame(data)\n",
    "df.show()"
   ]
  },
  {
   "cell_type": "markdown",
   "metadata": {},
   "source": [
    "### Creating DataFrame"
   ]
  },
  {
   "cell_type": "code",
   "execution_count": null,
   "metadata": {
    "tags": []
   },
   "outputs": [],
   "source": [
    "data = [\n",
    "    ('Kushal', 'Shrestha', '1991-01-01', 'M', 1234),\n",
    "    ('Lionel', 'Messi', '2004-01-01', 'M', 1234),\n",
    "    ('Cristiano', 'Ronaldo', '2002-01-01', 'M', 1234)\n",
    "]\n",
    "columns = ['firstname', 'lastname', 'dob', 'gender', 'salary']\n",
    "df = spark.createDataFrame(data = data, schema = columns)\n",
    "df.show()"
   ]
  },
  {
   "cell_type": "markdown",
   "metadata": {},
   "source": [
    "### Reading CSV Files"
   ]
  },
  {
   "cell_type": "code",
   "execution_count": null,
   "metadata": {
    "tags": []
   },
   "outputs": [],
   "source": [
    "# Create DataFrame from CSV file\n",
    "import os\n",
    "print(os.getcwd())\n",
    "sample_zip_code_file_path = os.path.abspath('./resources/1_sample_zip_code.csv')\n",
    "df = spark.read.csv(sample_zip_code_file_path)\n",
    "df.printSchema()\n",
    "\n",
    "df2 = spark.read.option(\"header\",True) \\\n",
    "     .csv(sample_zip_code_file_path)\n",
    "df2.printSchema()\n",
    "print(df)\n",
    "print(df2)"
   ]
  },
  {
   "cell_type": "markdown",
   "metadata": {},
   "source": [
    "### Reading multiple CSV Files"
   ]
  },
  {
   "cell_type": "code",
   "execution_count": null,
   "metadata": {
    "tags": []
   },
   "outputs": [],
   "source": [
    "import os\n",
    "sample_zip_code_file_path = os.path.abspath('./resources/1_sample_zip_code.csv')\n",
    "sample_zip_code_file_path1 = os.path.abspath('./resources/2_sample_zip_code1.csv')\n",
    "df = spark.read.option(\"header\", True).csv([sample_zip_code_file_path, sample_zip_code_file_path1])\n",
    "print(df.show())\n",
    "\n",
    "files_using_wildcard = os.path.abspath('./resources/*.csv')\n",
    "df1 = spark.read.option(\"header\", True).csv([files_using_wildcard])\n",
    "print(df1.show())\n",
    "\n",
    "all_files_from_folder = os.path.abspath('./resources')\n",
    "df2 = spark.read.option(\"header\", True).csv(all_files_from_folder)\n",
    "print(df2.show())"
   ]
  },
  {
   "cell_type": "code",
   "execution_count": null,
   "metadata": {
    "tags": []
   },
   "outputs": [],
   "source": [
    "### option() method for chaining"
   ]
  },
  {
   "cell_type": "code",
   "execution_count": 4,
   "metadata": {
    "tags": []
   },
   "outputs": [
    {
     "name": "stdout",
     "output_type": "stream",
     "text": [
      "+--------+-------------+-----+\n",
      "|zip_code|         city|state|\n",
      "+--------+-------------+-----+\n",
      "|   10001|     New York|   NY|\n",
      "|   90001|  Los Angeles|   CA|\n",
      "|   60601|      Chicago|   IL|\n",
      "|   77001|      Houston|   TX|\n",
      "|   85001|      Phoenix|   AZ|\n",
      "|   30301|      Atlanta|   GA|\n",
      "|   94101|San Francisco|   CA|\n",
      "|   33101|        Miami|   FL|\n",
      "|   75201|       Dallas|   TX|\n",
      "|   48201|      Detroit|   MI|\n",
      "+--------+-------------+-----+\n",
      "\n",
      "None\n"
     ]
    }
   ],
   "source": [
    "sample_zip_code_file_path = os.path.abspath('./resources/1_sample_zip_code.csv')\n",
    "sample_zip_code_file_path1 = os.path.abspath('./resources/2_sample_zip_code1.csv')\n",
    "\n",
    "options = {\n",
    "    'header' : True,\n",
    "    'delimiter': ',',\n",
    "    'inferSchema' : True\n",
    "}\n",
    "\n",
    "df = spark.read.options(**options).csv('./resources/*.csv')\n",
    "print(df.show())"
   ]
  },
  {
   "cell_type": "code",
   "execution_count": null,
   "metadata": {},
   "outputs": [],
   "source": []
  }
 ],
 "metadata": {
  "kernelspec": {
   "display_name": "Python 3 (ipykernel)",
   "language": "python",
   "name": "python3"
  },
  "language_info": {
   "codemirror_mode": {
    "name": "ipython",
    "version": 3
   },
   "file_extension": ".py",
   "mimetype": "text/x-python",
   "name": "python",
   "nbconvert_exporter": "python",
   "pygments_lexer": "ipython3",
   "version": "3.11.3"
  }
 },
 "nbformat": 4,
 "nbformat_minor": 4
}
