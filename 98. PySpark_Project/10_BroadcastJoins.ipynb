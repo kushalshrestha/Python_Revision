{
 "cells": [
  {
   "cell_type": "markdown",
   "id": "97070272-2164-47fb-b50f-37bb7a77ad54",
   "metadata": {},
   "source": [
    "# Broadcast Joins\n",
    "- When joining a small DataFrame with a large DataFrame, use broadcast joins to improve performance.\n"
   ]
  },
  {
   "cell_type": "code",
   "execution_count": 4,
   "id": "6dbb6730-2f98-4d09-a61c-9431545eec81",
   "metadata": {},
   "outputs": [
    {
     "name": "stderr",
     "output_type": "stream",
     "text": [
      "Setting default log level to \"WARN\".\n",
      "To adjust logging level use sc.setLogLevel(newLevel). For SparkR, use setLogLevel(newLevel).\n",
      "25/03/29 18:01:06 WARN NativeCodeLoader: Unable to load native-hadoop library for your platform... using builtin-java classes where applicable\n",
      "25/03/29 18:01:06 WARN Utils: Service 'SparkUI' could not bind on port 4040. Attempting port 4041.\n",
      "25/03/29 18:01:06 WARN Utils: Service 'SparkUI' could not bind on port 4041. Attempting port 4042.\n",
      "25/03/29 18:01:06 WARN Utils: Service 'SparkUI' could not bind on port 4042. Attempting port 4043.\n"
     ]
    },
    {
     "name": "stdout",
     "output_type": "stream",
     "text": [
      "+---+-------+---+---------+\n",
      "| id|   name|age|  country|\n",
      "+---+-------+---+---------+\n",
      "|  1|  Alice| 25|      USA|\n",
      "|  2|    Bob| 30|   Canada|\n",
      "|  3|Charlie| 35|       UK|\n",
      "|  4|  David| 40|Australia|\n",
      "|  5|    Eva| 45|  Germany|\n",
      "+---+-------+---+---------+\n",
      "\n"
     ]
    }
   ],
   "source": [
    "from pyspark.sql import SparkSession\n",
    "from pyspark.sql.functions import broadcast\n",
    "\n",
    "spark = SparkSession.builder.appName('TestApp').getOrCreate()\n",
    "\n",
    "df_large = spark.read.csv('./resources/5_person.csv', header=True, inferSchema=True)\n",
    "df_small = spark.read.csv('./resources/6_country.csv', header=True, inferSchema=True)\n",
    "\n",
    "df_joined = df_large.join(broadcast(df_small), \"id\")\n",
    "df_joined.show()"
   ]
  },
  {
   "cell_type": "markdown",
   "id": "ff177e4d-4696-4832-9db2-623295e073e6",
   "metadata": {},
   "source": [
    "### Partitioning for Performance\n",
    "- Repartitioning or coalescing DataFrames can significantly improve performance, especially for large datasets"
   ]
  },
  {
   "cell_type": "code",
   "execution_count": 10,
   "id": "a33deb88-7cb3-481a-a569-4f0203b97ece",
   "metadata": {},
   "outputs": [
    {
     "name": "stdout",
     "output_type": "stream",
     "text": [
      "+---+-------+---+---------+\n",
      "| id|   name|age|  country|\n",
      "+---+-------+---+---------+\n",
      "|  5|    Eva| 45|  Germany|\n",
      "|  1|  Alice| 25|      USA|\n",
      "|  2|    Bob| 30|   Canada|\n",
      "|  4|  David| 40|Australia|\n",
      "|  3|Charlie| 35|       UK|\n",
      "+---+-------+---+---------+\n",
      "\n"
     ]
    }
   ],
   "source": [
    "# Repartition: Increases the number of partitions, useful when performing wide transformations\n",
    "df_repartitioned = df_joined.repartition(10)\n",
    "df_repartitioned.show()"
   ]
  },
  {
   "cell_type": "code",
   "execution_count": 12,
   "id": "d2f53509-a546-45cf-aed7-be27d6f5dd3a",
   "metadata": {},
   "outputs": [
    {
     "name": "stdout",
     "output_type": "stream",
     "text": [
      "+---+-------+---+---------+\n",
      "| id|   name|age|  country|\n",
      "+---+-------+---+---------+\n",
      "|  1|  Alice| 25|      USA|\n",
      "|  2|    Bob| 30|   Canada|\n",
      "|  3|Charlie| 35|       UK|\n",
      "|  4|  David| 40|Australia|\n",
      "|  5|    Eva| 45|  Germany|\n",
      "+---+-------+---+---------+\n",
      "\n"
     ]
    }
   ],
   "source": [
    "# Coalesce: Reduces the number of partitions, useful when writing out data\n",
    "df_coalesced = df_joined.coalesce(1) # Merge into 1 partition before saving\n",
    "df_coalesced.show()"
   ]
  }
 ],
 "metadata": {
  "kernelspec": {
   "display_name": "Python 3 (ipykernel)",
   "language": "python",
   "name": "python3"
  },
  "language_info": {
   "codemirror_mode": {
    "name": "ipython",
    "version": 3
   },
   "file_extension": ".py",
   "mimetype": "text/x-python",
   "name": "python",
   "nbconvert_exporter": "python",
   "pygments_lexer": "ipython3",
   "version": "3.11.3"
  }
 },
 "nbformat": 4,
 "nbformat_minor": 5
}
