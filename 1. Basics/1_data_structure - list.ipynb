{
 "cells": [
  {
   "cell_type": "markdown",
   "metadata": {},
   "source": [
    "# List"
   ]
  },
  {
   "cell_type": "code",
   "execution_count": null,
   "metadata": {
    "vscode": {
     "languageId": "powershell"
    }
   },
   "outputs": [
    {
     "name": "stdout",
     "output_type": "stream",
     "text": [
      "[1]\n",
      "[3, 2]\n",
      "[1, 2, 3, 3, 'Kushal', 3.123]\n"
     ]
    }
   ],
   "source": [
    "my_list = []\n",
    "my_list.append(1)\n",
    "print(my_list)\n",
    "my_list = [3,2]\n",
    "print(my_list)\n",
    "my_list = [1, 2, 3, 3, 'Kushal', 3.123]\n",
    "print(my_list)\n",
    "\n",
    "\n",
    "\n"
   ]
  },
  {
   "cell_type": "code",
   "execution_count": null,
   "metadata": {
    "vscode": {
     "languageId": "powershell"
    }
   },
   "outputs": [
    {
     "name": "stdout",
     "output_type": "stream",
     "text": [
      "---------------ADDING ELEMENTS------------\n",
      "[1, 2, 3, 3, 'Kushal', 3.123, ['add', 'as', 'single', 'element']]\n",
      "[1, 2, 3, 3, 'Kushal', 3.123, ['add', 'as', 'single', 'element'], 'add', 'as', 'different', 'element']\n",
      "[1, 'add element at index 1 and shift other', 2, 3, 3, 'Kushal', 3.123, ['add', 'as', 'single', 'element'], 'add', 'as', 'different', 'element']\n"
     ]
    }
   ],
   "source": [
    "print('---------------ADDING ELEMENTS------------')\n",
    "my_list.append(['add','as', 'single', 'element'])\n",
    "print(my_list)\n",
    "my_list.extend(['add', 'as', 'different', 'element'])\n",
    "print(my_list)\n",
    "my_list.insert(1, 'add element at index 1 and shift other')\n",
    "print(my_list)\n",
    "\n"
   ]
  },
  {
   "cell_type": "code",
   "execution_count": null,
   "metadata": {
    "vscode": {
     "languageId": "powershell"
    }
   },
   "outputs": [
    {
     "name": "stdout",
     "output_type": "stream",
     "text": [
      "--------------DELETING ELEMENTS-------------\n",
      "[1, 'add element at index 1 and shift other', 2, 3, 3, 3.123, ['add', 'as', 'single', 'element'], 'add', 'as', 'different', 'element']\n",
      "[1, 'add element at index 1 and shift other', 2, 3, 3.123, ['add', 'as', 'single', 'element'], 'add', 'as', 'different', 'element']\n"
     ]
    }
   ],
   "source": [
    "print('--------------DELETING ELEMENTS-------------')\n",
    "del my_list[5] # deletes element at index 5\n",
    "print(my_list)\n",
    "my_list.remove(3) # removes the first value with 3 if repeated multiple times\n",
    "print(my_list)\n",
    "\n",
    "\n"
   ]
  },
  {
   "cell_type": "code",
   "execution_count": null,
   "metadata": {
    "vscode": {
     "languageId": "powershell"
    }
   },
   "outputs": [
    {
     "name": "stdout",
     "output_type": "stream",
     "text": [
      "---------------ACCESSING ELEMENTS-----------\n",
      "Printing each element by looping\n",
      "1\n",
      "add element at index 1 and shift other\n",
      "2\n",
      "3\n",
      "3.123\n",
      "['add', 'as', 'single', 'element']\n",
      "add\n",
      "as\n",
      "different\n",
      "element\n",
      "[1, 'add element at index 1 and shift other', 2, 3, 3.123, ['add', 'as', 'single', 'element'], 'add', 'as', 'different', 'element']\n",
      "my_list[1] gives element at position 1 : add element at index 1 and shift other\n",
      "my_list[0:3] gives element from 0 to 2 but excludes 3 : [1, 'add element at index 1 and shift other', 2]\n",
      "my_list[::-1] gives element in reverse : ['element', 'different', 'as', 'add', ['add', 'as', 'single', 'element'], 3.123, 3, 2, 'add element at index 1 and shift other', 1]\n"
     ]
    }
   ],
   "source": [
    "print('---------------ACCESSING ELEMENTS-----------')\n",
    "print('Printing each element by looping')\n",
    "for element in my_list:\n",
    "    print(element)\n",
    "print(my_list)\n",
    "print(f'my_list[1] gives element at position 1 : {my_list[1]}')\n",
    "print(f'my_list[0:3] gives element from 0 to 2 but excludes 3 : {my_list[0:3]}')\n",
    "print(f'my_list[::-1] gives element in reverse : {my_list[::-1]}')\n",
    "\n"
   ]
  },
  {
   "cell_type": "code",
   "execution_count": null,
   "metadata": {
    "vscode": {
     "languageId": "powershell"
    }
   },
   "outputs": [
    {
     "name": "stdout",
     "output_type": "stream",
     "text": [
      "----------------Other Functions---------\n",
      "len(my_list) gives length of list : 10\n",
      "my_list.index(\"element\") gives index/position of first occurrence of \"element\" : 9\n",
      "my_list.count(\"element\") gives count of \"element\" : 1\n",
      "[1, 2, 3, 5, 12, 45]\n",
      "[1, 2, 3, 5, 12, 45]\n",
      "[45, 12, 5, 3, 2, 1]\n"
     ]
    }
   ],
   "source": [
    "print('----------------Other Functions---------')\n",
    "print(f'len(my_list) gives length of list : {len(my_list)}')\n",
    "print(f'my_list.index(\"element\") gives index/position of first occurrence of \"element\" : {my_list.index(\"element\")}')\n",
    "print(f'my_list.count(\"element\") gives count of \"element\" : {my_list.count(\"element\")}')\n",
    "# print(sorted(my_list)) #print sorted list but not change original + but in this example we have mixed data type\n",
    "\n",
    "another_list = [1,3,45,2,12,5]\n",
    "print(sorted(another_list)) #prints sorted list but does not modify the list\n",
    "\n",
    "another_list.sort() #modifies the list itself\n",
    "print(another_list)\n",
    "\n",
    "another_list.sort(reverse=True) #modifies the list itself and in descending order\n",
    "print(another_list)"
   ]
  },
  {
   "cell_type": "code",
   "execution_count": 9,
   "metadata": {
    "vscode": {
     "languageId": "powershell"
    }
   },
   "outputs": [
    {
     "name": "stdout",
     "output_type": "stream",
     "text": [
      "Hello World!\n",
      "Hello Hello Hello \n",
      "Hell\n",
      "5\n",
      "HELLO\n"
     ]
    }
   ],
   "source": [
    "str1 = \"Hello\"\n",
    "str2 = \"World!\"\n",
    "print(str1 + \" \" + str2)\n",
    "print((str1 + \" \") * 3)\n",
    "print(str1[0:4]) # substring\n",
    "print(len(str1))\n",
    "print(str1.upper())"
   ]
  }
 ],
 "metadata": {
  "kernelspec": {
   "display_name": "Python 3",
   "language": "python",
   "name": "python3"
  },
  "language_info": {
   "codemirror_mode": {
    "name": "ipython",
    "version": 3
   },
   "file_extension": ".py",
   "mimetype": "text/x-python",
   "name": "python",
   "nbconvert_exporter": "python",
   "pygments_lexer": "ipython3",
   "version": "3.11.9"
  }
 },
 "nbformat": 4,
 "nbformat_minor": 2
}
