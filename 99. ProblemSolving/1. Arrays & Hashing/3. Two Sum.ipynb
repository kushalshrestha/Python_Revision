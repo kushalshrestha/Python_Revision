{
 "cells": [
  {
   "cell_type": "markdown",
   "metadata": {},
   "source": [
    "Two Sum\n",
    "Given an array of integers nums and an integer target, return the indices i and j such that nums[i] + nums[j] == target and i != j.\n",
    "\n",
    "You may assume that every input has exactly one pair of indices i and j that satisfy the condition.\n",
    "\n",
    "Return the answer with the smaller index first.\n",
    "\n",
    "Example 1:\n",
    "\n",
    "Input: \n",
    "nums = [3,4,5,6], target = 7\n",
    "\n",
    "Output: [0,1]\n",
    "Explanation: nums[0] + nums[1] == 7, so we return [0, 1].\n",
    "\n",
    "Example 2:\n",
    "\n",
    "Input: nums = [4,5,6], target = 10\n",
    "\n",
    "Output: [0,2]\n",
    "Example 3:\n",
    "\n",
    "Input: nums = [5,5], target = 10\n",
    "\n",
    "Output: [0,1]\n",
    "Constraints:\n",
    "\n",
    "2 <= nums.length <= 1000\n",
    "-10,000,000 <= nums[i] <= 10,000,000\n",
    "-10,000,000 <= target <= 10,000,000\n"
   ]
  },
  {
   "cell_type": "code",
   "execution_count": null,
   "metadata": {},
   "outputs": [
    {
     "name": "stdout",
     "output_type": "stream",
     "text": [
      "[0, 1]\n",
      "[1, 2]\n",
      "[2, 4]\n",
      "[3, 4]\n",
      "[]\n"
     ]
    }
   ],
   "source": [
    "\"\"\" By Brute Force \"\"\"\n",
    "from typing import List\n",
    "\n",
    "class Solution:\n",
    "    def twoSum(self, nums: List[int], target: int) -> List[int]:\n",
    "        for i in range(len(nums)):\n",
    "            for j in range(i+1, len(nums)):\n",
    "                if nums[i] + nums[j] == target:\n",
    "                    return [i, j]\n",
    "        return []\n",
    "    \n",
    "solution =  Solution()\n",
    "# Test Case 1: Basic case\n",
    "print(solution.twoSum([2, 7, 11, 15], 9))\n",
    "\n",
    "# Test Case 2: Multiple pairs possible, but should return first found\n",
    "print(solution.twoSum([3, 2, 4], 6))\n",
    "\n",
    "# Test Case 3: Negative numbers\n",
    "print(solution.twoSum([-1, -2, -3, -4, -5], -8))\n",
    "\n",
    "# Test Case 4: Single pair at the end\n",
    "print(solution.twoSum([1, 3, 5, 7, 9], 16))\n",
    "\n",
    "# Test Case 5: No valid pair\n",
    "print(solution.twoSum([1, 2, 3, 4, 5], 10))"
   ]
  },
  {
   "cell_type": "code",
   "execution_count": 11,
   "metadata": {},
   "outputs": [
    {
     "name": "stdout",
     "output_type": "stream",
     "text": [
      "[0, 1]\n",
      "[1, 2]\n",
      "[2, 4]\n",
      "[3, 4]\n",
      "None\n"
     ]
    }
   ],
   "source": [
    "\"\"\" By Sorting\n",
    "TC: O(n)\n",
    "SC: O(n)\n",
    "\"\"\"\n",
    "class Solution:\n",
    "    def twoSum(self, nums: List[int], target: int) -> List[int]:\n",
    "        prevMap = {}\n",
    "        for i, n in enumerate(nums):\n",
    "            diff = target - n\n",
    "            if (diff in prevMap):\n",
    "                return [prevMap[diff], i]\n",
    "            prevMap[n] = i\n",
    "\n",
    "solution = Solution()\n",
    "print(solution.twoSum([2, 7, 11, 15], 9))\n",
    "# Test Case 2: Multiple pairs possible, but should return first found\n",
    "print(solution.twoSum([3, 2, 4], 6))\n",
    "\n",
    "# Test Case 3: Negative numbers\n",
    "print(solution.twoSum([-1, -2, -3, -4, -5], -8))\n",
    "\n",
    "# Test Case 4: Single pair at the end\n",
    "print(solution.twoSum([1, 3, 5, 7, 9], 16))\n",
    "\n",
    "# Test Case 5: No valid pair\n",
    "print(solution.twoSum([1, 2, 3, 4, 5], 10))"
   ]
  },
  {
   "cell_type": "code",
   "execution_count": null,
   "metadata": {},
   "outputs": [],
   "source": []
  }
 ],
 "metadata": {
  "kernelspec": {
   "display_name": "Python 3",
   "language": "python",
   "name": "python3"
  },
  "language_info": {
   "codemirror_mode": {
    "name": "ipython",
    "version": 3
   },
   "file_extension": ".py",
   "mimetype": "text/x-python",
   "name": "python",
   "nbconvert_exporter": "python",
   "pygments_lexer": "ipython3",
   "version": "3.11.9"
  }
 },
 "nbformat": 4,
 "nbformat_minor": 2
}
