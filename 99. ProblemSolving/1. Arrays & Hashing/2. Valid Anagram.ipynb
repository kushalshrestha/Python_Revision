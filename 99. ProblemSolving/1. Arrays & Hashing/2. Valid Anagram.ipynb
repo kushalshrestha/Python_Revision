{
 "cells": [
  {
   "cell_type": "markdown",
   "metadata": {},
   "source": [
    "Valid Anagram\n",
    "Given two strings s and t, return true if the two strings are anagrams of each other, otherwise return false.\n",
    "\n",
    "An anagram is a string that contains the exact same characters as another string, but the order of the characters can be different.\n",
    "\n",
    "Example 1:\n",
    "\n",
    "Input: s = \"racecar\", t = \"carrace\"\n",
    "\n",
    "Output: true\n",
    "Example 2:\n",
    "\n",
    "Input: s = \"jar\", t = \"jam\"\n",
    "\n",
    "Output: false\n",
    "Constraints:\n",
    "\n",
    "s and t consist of lowercase English letters."
   ]
  },
  {
   "cell_type": "code",
   "execution_count": 2,
   "metadata": {},
   "outputs": [
    {
     "name": "stdout",
     "output_type": "stream",
     "text": [
      "True\n",
      "False\n"
     ]
    }
   ],
   "source": [
    "\"\"\" Using Sorting \"\"\"\n",
    "class Solution:\n",
    "    def isAnagram(self, s: str, t: str) -> bool:\n",
    "        if len(s) != len(t):\n",
    "            return False\n",
    "        return sorted(s) == sorted(t)\n",
    "\n",
    "solution = Solution()\n",
    "print(solution.isAnagram(\"racecar\", \"carrace\")) \n",
    "print(solution.isAnagram(\"jar\", \"jam\"))     \n",
    "    "
   ]
  },
  {
   "cell_type": "code",
   "execution_count": null,
   "metadata": {},
   "outputs": [],
   "source": [
    "\"\"\" BY Hash Table \"\"\"\n",
    "class Solution:\n",
    "    def isAnagram(self, s: str, t: str) -> bool:\n",
    "        if len(s) != len(t):\n",
    "            return False\n",
    "        \n",
    "        countS, countT = {}, {}\n",
    "        \n",
    "        for i in range(len(s)):\n",
    "            countS[s[i]] = 1 + countS.get(s[i], 0)\n",
    "            countT[t[i]] = 1 + countT.get(t[i], 0)\n",
    "        return countS == countT\n",
    "\n",
    "solution = Solution()\n",
    "print(solution.isAnagram(\"racecar\", \"carrace\")) \n",
    "print(solution.isAnagram(\"jar\", \"jam\"))"
   ]
  },
  {
   "cell_type": "code",
   "execution_count": null,
   "metadata": {},
   "outputs": [],
   "source": [
    "\"\"\" Using Hash Table \"\"\"\n"
   ]
  }
 ],
 "metadata": {
  "kernelspec": {
   "display_name": "Python 3",
   "language": "python",
   "name": "python3"
  },
  "language_info": {
   "codemirror_mode": {
    "name": "ipython",
    "version": 3
   },
   "file_extension": ".py",
   "mimetype": "text/x-python",
   "name": "python",
   "nbconvert_exporter": "python",
   "pygments_lexer": "ipython3",
   "version": "3.11.9"
  }
 },
 "nbformat": 4,
 "nbformat_minor": 2
}
