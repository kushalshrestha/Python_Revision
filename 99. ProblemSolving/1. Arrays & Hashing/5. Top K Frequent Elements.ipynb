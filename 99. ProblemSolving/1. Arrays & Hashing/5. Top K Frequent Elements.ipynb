{
 "cells": [
  {
   "cell_type": "markdown",
   "metadata": {},
   "source": [
    "Top K Frequent Elements\n",
    "Given an integer array nums and an integer k, return the k most frequent elements within the array.\n",
    "\n",
    "The test cases are generated such that the answer is always unique.\n",
    "\n",
    "You may return the output in any order.\n",
    "\n",
    "Example 1:\n",
    "\n",
    "Input: nums = [1,2,2,3,3,3], k = 2\n",
    "\n",
    "Output: [2,3]\n",
    "Example 2:\n",
    "\n",
    "Input: nums = [7,7], k = 1\n",
    "\n",
    "Output: [7]\n",
    "Constraints:\n",
    "\n",
    "1 <= nums.length <= 10^4.\n",
    "-1000 <= nums[i] <= 1000\n",
    "1 <= k <= number of distinct elements in nums."
   ]
  },
  {
   "cell_type": "code",
   "execution_count": 13,
   "metadata": {},
   "outputs": [
    {
     "name": "stdout",
     "output_type": "stream",
     "text": [
      "[3, 2]\n",
      "[7]\n"
     ]
    }
   ],
   "source": [
    "\"\"\" By Sorting \n",
    "TC: O(n logn)\n",
    "SC: O(n)\n",
    "\"\"\"\n",
    "from typing import List\n",
    "class Solution:\n",
    "    def topKFrequent(self, nums: List[int], k: int) -> List[int]:\n",
    "        count = {}\n",
    "        for num in nums:\n",
    "            count[num] = 1 + count.get(num, 0)\n",
    "        arr = []\n",
    "        for key, value in count.items():\n",
    "            arr.append([value, key])\n",
    "        arr.sort()\n",
    "        \n",
    "        result = []\n",
    "        while len(result) < k:\n",
    "            result.append(arr.pop()[1])\n",
    "        return result\n",
    "            \n",
    "\n",
    "solution = Solution()\n",
    "print(solution.topKFrequent([1,2,2,3,3,3], 2))\n",
    "print(solution.topKFrequent([7,7], 1))\n",
    "\n",
    "\n",
    "\n",
    "        "
   ]
  },
  {
   "cell_type": "code",
   "execution_count": null,
   "metadata": {},
   "outputs": [],
   "source": [
    "\"\"\" By Heap \"\"\"\n"
   ]
  }
 ],
 "metadata": {
  "kernelspec": {
   "display_name": "Python 3",
   "language": "python",
   "name": "python3"
  },
  "language_info": {
   "codemirror_mode": {
    "name": "ipython",
    "version": 3
   },
   "file_extension": ".py",
   "mimetype": "text/x-python",
   "name": "python",
   "nbconvert_exporter": "python",
   "pygments_lexer": "ipython3",
   "version": "3.11.9"
  }
 },
 "nbformat": 4,
 "nbformat_minor": 2
}
