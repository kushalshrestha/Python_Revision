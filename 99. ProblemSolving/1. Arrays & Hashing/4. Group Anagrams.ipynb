{
 "cells": [
  {
   "cell_type": "markdown",
   "metadata": {},
   "source": [
    "Group Anagrams\n",
    "Given an array of strings strs, group all anagrams together into sublists. You may return the output in any order.\n",
    "\n",
    "An anagram is a string that contains the exact same characters as another string, but the order of the characters can be different.\n",
    "\n",
    "Example 1:\n",
    "\n",
    "Input: strs = [\"act\",\"pots\",\"tops\",\"cat\",\"stop\",\"hat\"]\n",
    "\n",
    "Output: [[\"hat\"],[\"act\", \"cat\"],[\"stop\", \"pots\", \"tops\"]]\n",
    "Example 2:\n",
    "\n",
    "Input: strs = [\"x\"]\n",
    "\n",
    "Output: [[\"x\"]]\n",
    "Example 3:\n",
    "\n",
    "Input: strs = [\"\"]\n",
    "\n",
    "Output: [[\"\"]]\n",
    "Constraints:\n",
    "\n",
    "1 <= strs.length <= 1000.\n",
    "0 <= strs[i].length <= 100\n",
    "strs[i] is made up of lowercase English letters."
   ]
  },
  {
   "cell_type": "code",
   "execution_count": null,
   "metadata": {},
   "outputs": [
    {
     "name": "stdout",
     "output_type": "stream",
     "text": [
      "defaultdict(<class 'list'>, {})\n",
      "[['act', 'cat'], ['pots', 'tops', 'stop'], ['hat']]\n"
     ]
    }
   ],
   "source": [
    "\"\"\" By Sorting \n",
    "TC: (m * n logn)\n",
    "SC : O(m * n)\n",
    "\"\"\"\n",
    "from typing import List\n",
    "from collections import defaultdict\n",
    "\n",
    "class Solution:\n",
    "    def groupAnagrams(self, strs: List[str]) -> List[List[str]]:\n",
    "        res = defaultdict(list)\n",
    "        \n",
    "        for s in strs:\n",
    "            sortedS = ''.join(sorted(s))\n",
    "            res[sortedS].append(s)\n",
    "        return list(res.values())\n",
    "        \n",
    "solution = Solution()\n",
    "print(solution.groupAnagrams([\"act\",\"pots\",\"tops\",\"cat\",\"stop\",\"hat\"]))"
   ]
  }
 ],
 "metadata": {
  "kernelspec": {
   "display_name": "Python 3",
   "language": "python",
   "name": "python3"
  },
  "language_info": {
   "codemirror_mode": {
    "name": "ipython",
    "version": 3
   },
   "file_extension": ".py",
   "mimetype": "text/x-python",
   "name": "python",
   "nbconvert_exporter": "python",
   "pygments_lexer": "ipython3",
   "version": "3.11.9"
  }
 },
 "nbformat": 4,
 "nbformat_minor": 2
}
