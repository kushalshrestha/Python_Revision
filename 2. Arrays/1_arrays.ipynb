{
 "cells": [
  {
   "cell_type": "code",
   "execution_count": 2,
   "metadata": {},
   "outputs": [
    {
     "name": "stdout",
     "output_type": "stream",
     "text": [
      "Array elements: array('i', [1, 2, 3, 4, 5])\n",
      "First element: 1\n",
      "After appending: array('i', [1, 2, 3, 4, 5, 6])\n",
      "After removing 3: array('i', [1, 2, 4, 5, 6])\n"
     ]
    }
   ],
   "source": [
    "import array\n",
    "arr = array.array('i', [1,2,3,4,5])\n",
    "print(\"Array elements:\", arr)  # Output: array('i', [1, 2, 3, 4, 5])\n",
    "\n",
    "# Accessing elements\n",
    "print(\"First element:\", arr[0])  # Output: 1\n",
    "\n",
    "# Adding an element\n",
    "arr.append(6)\n",
    "print(\"After appending:\", arr)  # Output: array('i', [1, 2, 3, 4, 5, 6])\n",
    "\n",
    "# Removing an element\n",
    "arr.remove(3)\n",
    "print(\"After removing 3:\", arr)  # Output: array('i', [1, 2, 4, 5, 6])"
   ]
  },
  {
   "cell_type": "markdown",
   "metadata": {},
   "source": [
    "# Output Different in Float type array\n",
    "is due to floating-point precision errors in Python."
   ]
  },
  {
   "cell_type": "code",
   "execution_count": 3,
   "metadata": {},
   "outputs": [
    {
     "name": "stdout",
     "output_type": "stream",
     "text": [
      "Float array: array('f', [1.100000023841858, 2.200000047683716, 3.299999952316284])\n"
     ]
    }
   ],
   "source": [
    "import array\n",
    "\n",
    "# Creating an array of floats (type code 'f' for floating-point numbers)\n",
    "float_arr = array.array('f', [1.1, 2.2, 3.3])\n",
    "\n",
    "print(\"Float array:\", float_arr)  # Output: array('f', [1.1, 2.2, 3.3])\n"
   ]
  },
  {
   "cell_type": "markdown",
   "metadata": {},
   "source": [
    "# Slicing in Python\n"
   ]
  },
  {
   "cell_type": "code",
   "execution_count": null,
   "metadata": {},
   "outputs": [
    {
     "name": "stdout",
     "output_type": "stream",
     "text": [
      "[2, 4, 6, 8, 10]\n",
      "[2, 4, 6]\n"
     ]
    }
   ],
   "source": [
    "numbers = [1, 2, 3, 4, 5, 6, 7, 8, 9, 10]\n",
    "print(numbers[1 : : 2])  #output : [2, 4, 6, 8, 10]\n",
    "\n",
    "numbers = [1, 2, 3, 4, 5, 6, 7, 8, 9, 10]\n",
    "print(numbers[1 : 7 : 2])  #output : [2, 4, 6]"
   ]
  }
 ],
 "metadata": {
  "kernelspec": {
   "display_name": "Python 3",
   "language": "python",
   "name": "python3"
  },
  "language_info": {
   "codemirror_mode": {
    "name": "ipython",
    "version": 3
   },
   "file_extension": ".py",
   "mimetype": "text/x-python",
   "name": "python",
   "nbconvert_exporter": "python",
   "pygments_lexer": "ipython3",
   "version": "3.11.9"
  }
 },
 "nbformat": 4,
 "nbformat_minor": 2
}
